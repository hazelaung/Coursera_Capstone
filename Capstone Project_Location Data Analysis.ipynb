{
    "cells": [
        {
            "cell_type": "markdown",
            "metadata": {
                "collapsed": true
            },
            "source": "# Location Data Analysis of Toronto, Canada to open a Fitness Centre"
        },
        {
            "cell_type": "markdown",
            "metadata": {},
            "source": "### 1. Introduction\n#### 1.1. Background & Business Problem"
        },
        {
            "cell_type": "markdown",
            "metadata": {},
            "source": "According to 2019 ParticipACTION Adult Report Card conducted by Canadian Fitness and Lifestyle Research Institute, 29% of Canadian adults (aged 18 to 79 years old) had low active lifestyle while 18% of them were observed having sedentary lifestyle [1]. Moreover, only 16% of Canadian adults achieved the national guideline of at least 150 minutes of weekly MVPA (Moderate to Vigorous Physical Activity). Engaging sedentary behaviors such as sitting in a reclined position or using computer for extended period of time may increase the risks of obesity, cardiovascular diseases and many more. Reducing sedentary behaviors and increasing physical activity can benefit to many individuals, especially working adults who spend most of their time in the office throughout the day. In addition, a national study investigating work-life balance in Canada revealed that many working Canadians were overloaded by the demands of work and family [2]. \n\nThus, in recent years, the commitment in promoting physical activity to get healthier lifestyle was initiated by the government and different organizations. Health and fitness industry has grown exponentially over the last five years due to increasing health consciousness of Canadians. Hence, in this project, as a data scientist, I would like to explore the neighborhoods in Toronto, Canada to open a fitness centre. Toronto, the capital city of the province of Ontario, is a cosmopolitan and most populous city in Canada. Being the international centre for businesses and crowded city with working professionals, Toronto is a good place to consider opening a fitness centre for those who would like to promote active lifestyle among Canadians.\n\n<b>Problem Statement</b> \u2013 To choose one of the best neighborhoods in Toronto to open a fitness centre to promote healthy lifestyle"
        },
        {
            "cell_type": "markdown",
            "metadata": {},
            "source": "#### 1.2. Target Audience"
        },
        {
            "cell_type": "markdown",
            "metadata": {},
            "source": "This section explains the target audience of this project. In other words, it explains who would be interested or which group of people would be benefited from this project. First of all, entrepreneurs who would like to start a business in health and fitness industry in Toronto. The location data analysis in this project will be helpful for them to choose the best neighborhoods in Toronto to start their own business. Moreover, the analysis will guide them in predicting profit and loss of business by locations. Second, the potential customers such as Canadians in Toronto who would like to engage in active lifestyle can explore neighborhoods with many health and fitness options. Business personnel who would like to invest in health and fitness industry can also be benefited from this project. In addition, this project would be able to tell a story of exploring different neighborhoods by analyzing the datasets and applying machine learning techniques so that other data scientists can explore them as well."
        },
        {
            "cell_type": "markdown",
            "metadata": {},
            "source": "### 2. Data Acquisition"
        },
        {
            "cell_type": "markdown",
            "metadata": {},
            "source": "The data sources for this project are listed as below:\n\n\u2022\tTo get the list of all the neighborhoods in Toronto, I will be utilizing web scraping technique to extract the content from Wikipedia page of \u201cList of postal codes of Canada: M\u201d (https://en.wikipedia.org/wiki/List_of_postal_codes_of_Canada:_M). The postal code, borough and neighborhood names will be presented in panda dataframe.\n\n\u2022\tTo get the geospatial data of all the neighborhoods that includes geographical coordinates, Geospatial Coordinates (https://cf-courses-data.s3.us.cloud-object-storage.appdomain.cloud/IBMDeveloperSkillsNetwork-DS0701EN-SkillsNetwork/labs_v1/Geospatial_Coordinates.csv) csv file will be used. Next, the two dataframes will be combined to get the information of postal code, borough, neighborhood names and their coordinates in one dataframe.\n    \n\u2022\tFoursquare API will be used to explore the most common venues in Toronto. Venue information such as names, categories, etc. will be collected. Specifically, I will be exploring the details of neighborhoods that have more offices since it will be good to focus on office workers as potential customers due to exposing more sedentary lifestyle.\n\n\u2022\tAfter exploring and screening the potential neighborhoods, I will be extracting the neighborhood profile, including demographic data from the Open Data Portal, provided by the City\u2019s Social Policy Analysis & Research Unit from Statistics Canada Census data at <https://open.toronto.ca/dataset/neighbourhood-profiles/>.\n"
        },
        {
            "cell_type": "markdown",
            "metadata": {},
            "source": "### References\n\n[1] ParticipACTION, 2019 Adult report card (https://www.participaction.com/en-ca/resources/adult-report-card)\n\n[2] Bulletin 05: Perceived Life Stress (https://cflri.ca/bulletin-05-perceived-life-stress)"
        },
        {
            "cell_type": "code",
            "execution_count": null,
            "metadata": {},
            "outputs": [],
            "source": ""
        }
    ],
    "metadata": {
        "kernelspec": {
            "display_name": "Python 3.7",
            "language": "python",
            "name": "python3"
        },
        "language_info": {
            "codemirror_mode": {
                "name": "ipython",
                "version": 3
            },
            "file_extension": ".py",
            "mimetype": "text/x-python",
            "name": "python",
            "nbconvert_exporter": "python",
            "pygments_lexer": "ipython3",
            "version": "3.7.10"
        }
    },
    "nbformat": 4,
    "nbformat_minor": 1
}